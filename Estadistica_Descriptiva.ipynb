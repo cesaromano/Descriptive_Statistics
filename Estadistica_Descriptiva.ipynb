{
 "cells": [
  {
   "cell_type": "markdown",
   "metadata": {},
   "source": [
    "## 12/10/2022 09:50:28\n",
    "\n",
    "## Estadistica descriptiva vs estadistica inferencial\n",
    "\t\n",
    "\t- registros de datos recolectados sobre areas especificas\n",
    "\t\n",
    "\t- sobre esos datos se pueden crear metricas resumidas para sacar conclusiones\n",
    "\t\n",
    "\t- se trata de resumir informacion\n",
    "\t\n",
    "\t- estadistica inferencial, obtener inferencias, predicciones de los datos obtenidos\n",
    "\t\n",
    "\t- es dificil obtener una definicion objetiva\n",
    "\t\n",
    "\t- estadisticos descriptivos pueden dar nociones diferentes de los mismos datos\n",
    "\t\n",
    "### argumentos a favor de la estadistica\n",
    "\t\n",
    "\t- siempre es de valor resumir grandes cantiades de informacion\n",
    "\t\n",
    "\t- ayuda a tomar mejores decisiones\n",
    "\t\n",
    "\t- reconocer patrones en los datos\n",
    "\t\n",
    "\t- tener un mejor criterio sobre tal o cual verdad"
   ]
  },
  {
   "cell_type": "markdown",
   "metadata": {},
   "source": [
    "## Flujo de trabajo en data science\n",
    "\t\n",
    "### preprocesamiento (estadistica descriptiva)\n",
    "\t\n",
    "\t- tipo de datos, pipeline de procesamiento\n",
    "\t\n",
    "\t- ingesta de datos y validacion\n",
    "\t\n",
    "### procesamiento (estadistica descriptiva)\n",
    "\t\n",
    "\t- analisis exploratorio, estadistica descriptiva, correlaciones, reducciones de datos\n",
    "\t\n",
    "\t- preparacion y entrenamiento del modelo\n",
    "\t\n",
    "### (estadistica inferencial)\n",
    "\t\n",
    "\t- evaluacion del modelo, produccion e interaccion final del usuario"
   ]
  },
  {
   "cell_type": "markdown",
   "metadata": {},
   "source": [
    "## Plan del curso\n",
    "\t\n",
    "### estadisticos para ingesta y procesamiento\n",
    "\t\n",
    "\t- tipos de datos (identificar los tipos de datos)\n",
    "\t\n",
    "\t- pipeline de procesamiento\n",
    "\t\n",
    "### estadisticos para analitica y exploracion\n",
    "\t\n",
    "\t- analisis exploratorio\n",
    "\t\n",
    "\t- correlaciones\n",
    "\t\n",
    "\t- reducciones de datos"
   ]
  },
  {
   "cell_type": "markdown",
   "metadata": {},
   "source": [
    "## Tipos de datos\n",
    "\t\n",
    "### datos categoricos (pandas: object or bool)\n",
    "\t\n",
    "\t  genero, categoria de pelicula, metodo de pago, etc\n",
    "\t\n",
    "\t- ordinal, existe relacion de orden entre las categorias\n",
    "\t\n",
    "\t- nominal, no existe relacion de orden entre categorias\n",
    "\t\n",
    "### datos numericos\n",
    "\t\n",
    "\t  edad, altura, temperatura\n",
    "\t  \n",
    "\t- discretos, numeros enteros (pandas: int64)\n",
    "\t\n",
    "\t- continuo, numeros reales (pandas: float64)\n",
    "\t\n",
    "### pandas\n",
    "\t\n",
    "\t- df.describe(), conjunto fundamental de estadisticos descriptivos, cada fila representa un estadisticos"
   ]
  }
 ],
 "metadata": {
  "kernelspec": {
   "display_name": "Python 3.9.12 ('base')",
   "language": "python",
   "name": "python3"
  },
  "language_info": {
   "name": "python",
   "version": "3.9.12"
  },
  "orig_nbformat": 4,
  "vscode": {
   "interpreter": {
    "hash": "be19b24ca10340a312e7e4c9d8c5eb5ed3918182997461c4095b7cc34401ceea"
   }
  }
 },
 "nbformat": 4,
 "nbformat_minor": 2
}
